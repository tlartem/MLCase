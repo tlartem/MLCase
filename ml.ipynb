{
 "cells": [
  {
   "cell_type": "markdown",
   "metadata": {
    "id": "RpfsSXI0joVK"
   },
   "source": [
    "<div align=\"center\">\n",
    "  <img src=\"data:image/png;base64,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\" alt=\"Обложка Baseline\" width=\"600\">\n",
    "</div>"
   ]
  },
  {
   "cell_type": "markdown",
   "metadata": {
    "id": "6-HAYOzsrJs0"
   },
   "source": [
    "## Этап 1. Установка библиотек и импорт данных"
   ]
  },
  {
   "cell_type": "code",
   "execution_count": null,
   "metadata": {
    "ExecuteTime": {
     "end_time": "2024-11-05T08:20:52.854428Z",
     "start_time": "2024-11-05T08:20:52.206180Z"
    },
    "colab": {
     "base_uri": "https://localhost:8080/"
    },
    "executionInfo": {
     "elapsed": 8978,
     "status": "ok",
     "timestamp": 1730467918119,
     "user": {
      "displayName": "Артур Артиков",
      "userId": "02303814087280081703"
     },
     "user_tz": -180
    },
    "id": "8F4wuWvmq_fc",
    "outputId": "2b18b471-71de-4e40-d797-acf0098a3a14"
   },
   "outputs": [
    {
     "name": "stdout",
     "output_type": "stream",
     "text": [
      "\u001b[31mERROR: Could not find a version that satisfies the requirement pytorch-macos (from versions: none)\u001b[0m\u001b[31m\r\n",
      "\u001b[0m\u001b[31mERROR: No matching distribution found for pytorch-macos\u001b[0m\u001b[31m\r\n",
      "\u001b[0m\r\n",
      "\u001b[1m[\u001b[0m\u001b[34;49mnotice\u001b[0m\u001b[1;39;49m]\u001b[0m\u001b[39;49m A new release of pip is available: \u001b[0m\u001b[31;49m23.2.1\u001b[0m\u001b[39;49m -> \u001b[0m\u001b[32;49m24.3.1\u001b[0m\r\n",
      "\u001b[1m[\u001b[0m\u001b[34;49mnotice\u001b[0m\u001b[1;39;49m]\u001b[0m\u001b[39;49m To update, run: \u001b[0m\u001b[32;49mpip install --upgrade pip\u001b[0m\r\n"
     ]
    }
   ],
   "source": [
    "# Cкачиваем необходимые библиотеки для работы\n",
    "!pip install pandas numpy scikit-learn"
   ]
  },
  {
   "cell_type": "code",
   "execution_count": 3,
   "metadata": {
    "ExecuteTime": {
     "end_time": "2024-11-05T08:00:20.927946Z",
     "start_time": "2024-11-05T08:00:13.393042Z"
    },
    "executionInfo": {
     "elapsed": 5,
     "status": "ok",
     "timestamp": 1730467918120,
     "user": {
      "displayName": "Артур Артиков",
      "userId": "02303814087280081703"
     },
     "user_tz": -180
    },
    "id": "Dmp5yUaAqaXa"
   },
   "outputs": [],
   "source": [
    "from sklearn.ensemble import HistGradientBoostingClassifier\n",
    "from sklearn.model_selection import train_test_split\n",
    "from sklearn.metrics import roc_auc_score\n",
    "import pandas as pd\n",
    "import glob\n",
    "import os"
   ]
  },
  {
   "cell_type": "markdown",
   "metadata": {
    "id": "BWXmiEHgrael"
   },
   "source": [
    "Подключаемся в Google Drive, чтобы работать с файлами из Google Colaboratory"
   ]
  },
  {
   "cell_type": "code",
   "execution_count": 6,
   "metadata": {
    "colab": {
     "base_uri": "https://localhost:8080/"
    },
    "executionInfo": {
     "elapsed": 4255,
     "status": "ok",
     "timestamp": 1730467922371,
     "user": {
      "displayName": "Артур Артиков",
      "userId": "02303814087280081703"
     },
     "user_tz": -180
    },
    "id": "ExjA7OIdqxlG",
    "outputId": "00be9094-1b02-4183-f7dc-c45a2f3e8837"
   },
   "outputs": [
    {
     "name": "stdout",
     "output_type": "stream",
     "text": [
      "Mounted at /content/drive\n"
     ]
    }
   ],
   "source": [
    "# from google.colab import drive\n",
    "# drive.mount('/content/drive', force_remount=True)"
   ]
  },
  {
   "cell_type": "markdown",
   "metadata": {
    "id": "FRfYMxczroLZ"
   },
   "source": [
    "Указываем путь к корневым папкам с данными test и train\n",
    "\n",
    "__Обратите внимание:__ если вы создали папку с названием отличным от _\"Хакатон Альфа-банка. Кейс 1\"_, то необходимо поменять путь к директории и ссылки ниже"
   ]
  },
  {
   "cell_type": "code",
   "execution_count": null,
   "metadata": {
    "ExecuteTime": {
     "end_time": "2024-11-05T08:01:56.592436Z",
     "start_time": "2024-11-05T08:01:56.590108Z"
    },
    "executionInfo": {
     "elapsed": 5,
     "status": "ok",
     "timestamp": 1730467922371,
     "user": {
      "displayName": "Артур Артиков",
      "userId": "02303814087280081703"
     },
     "user_tz": -180
    },
    "id": "iv6yqAqSrtHS"
   },
   "outputs": [],
   "source": [
    "# Путь к папке с тренировочными данными\n",
    "path_train = 'train' # Тут короче походу абсолютные пути нужны\n",
    "# Путь к папке с тестовыми данными\n",
    "path_test = 'test' # Тут короче походу абсолютные пути нужны"
   ]
  },
  {
   "cell_type": "markdown",
   "metadata": {
    "id": "XwQc1f_2syP0"
   },
   "source": [
    "Получим список файлов в каждой из папок с данными"
   ]
  },
  {
   "cell_type": "code",
   "execution_count": 11,
   "metadata": {
    "ExecuteTime": {
     "end_time": "2024-11-05T08:01:58.575321Z",
     "start_time": "2024-11-05T08:01:58.570665Z"
    },
    "colab": {
     "base_uri": "https://localhost:8080/"
    },
    "executionInfo": {
     "elapsed": 297,
     "status": "ok",
     "timestamp": 1730467922664,
     "user": {
      "displayName": "Артур Артиков",
      "userId": "02303814087280081703"
     },
     "user_tz": -180
    },
    "id": "07H1PTS9s0_2",
    "outputId": "893948b1-6231-4123-f16e-af498fb31123"
   },
   "outputs": [
    {
     "name": "stdout",
     "output_type": "stream",
     "text": [
      "Список файлов в репозитории train: ['train_4.csv', 'train_5.csv', 'train_7.csv', 'train_6.csv', 'train_2.csv', 'train_3.csv', 'train_1.csv', 'train_8.csv', 'train_9.csv', 'train_10.csv', 'Кейс-1. Кредитный скоринг юридических лиц. Baseline.ipynb']\n",
      "Список файлов в репозитории test: ['test_1.csv', 'test_2.csv', 'test_3.csv', 'test_7.csv', 'test_6.csv', 'test_4.csv', 'test_5.csv', 'test_8.csv', 'test_9.csv', 'test_10.csv']\n"
     ]
    }
   ],
   "source": [
    "print(*[f'Список файлов в репозитории {x.split(\"/\")[-1]}: {sorted(os.listdir(x), key=lambda x: len(x))}' for x in [path_train, path_test]], sep='\\n')"
   ]
  },
  {
   "cell_type": "markdown",
   "metadata": {
    "id": "3rj97D6ivc7u"
   },
   "source": [
    "Объединим тренировочные и тестовые данные в единые датасеты train и test"
   ]
  },
  {
   "cell_type": "code",
   "execution_count": 12,
   "metadata": {
    "ExecuteTime": {
     "end_time": "2024-11-05T08:02:06.844176Z",
     "start_time": "2024-11-05T08:02:05.731103Z"
    },
    "id": "w1GtdRGYyo5e"
   },
   "outputs": [
    {
     "data": {
      "text/plain": [
       "'Размерность полных тренировочных данных составляет: 38731 строка и 421 столбец'"
      ]
     },
     "metadata": {},
     "output_type": "display_data"
    },
    {
     "data": {
      "text/html": [
       "<div>\n",
       "<style scoped>\n",
       "    .dataframe tbody tr th:only-of-type {\n",
       "        vertical-align: middle;\n",
       "    }\n",
       "\n",
       "    .dataframe tbody tr th {\n",
       "        vertical-align: top;\n",
       "    }\n",
       "\n",
       "    .dataframe thead th {\n",
       "        text-align: right;\n",
       "    }\n",
       "</style>\n",
       "<table border=\"1\" class=\"dataframe\">\n",
       "  <thead>\n",
       "    <tr style=\"text-align: right;\">\n",
       "      <th></th>\n",
       "      <th>target</th>\n",
       "      <th>smpl</th>\n",
       "      <th>id</th>\n",
       "      <th>feature_1</th>\n",
       "      <th>feature_2</th>\n",
       "      <th>feature_3</th>\n",
       "      <th>feature_4</th>\n",
       "      <th>feature_5</th>\n",
       "      <th>feature_6</th>\n",
       "      <th>feature_7</th>\n",
       "      <th>...</th>\n",
       "      <th>feature_409</th>\n",
       "      <th>feature_410</th>\n",
       "      <th>feature_411</th>\n",
       "      <th>feature_412</th>\n",
       "      <th>feature_413</th>\n",
       "      <th>feature_414</th>\n",
       "      <th>feature_415</th>\n",
       "      <th>feature_416</th>\n",
       "      <th>feature_417</th>\n",
       "      <th>feature_418</th>\n",
       "    </tr>\n",
       "  </thead>\n",
       "  <tbody>\n",
       "    <tr>\n",
       "      <th>0</th>\n",
       "      <td>0</td>\n",
       "      <td>train</td>\n",
       "      <td>11619</td>\n",
       "      <td>-0.803605</td>\n",
       "      <td>1.373680</td>\n",
       "      <td>1.0</td>\n",
       "      <td>-0.147178</td>\n",
       "      <td>-1.135569</td>\n",
       "      <td>-0.829743</td>\n",
       "      <td>-0.688879</td>\n",
       "      <td>...</td>\n",
       "      <td>2.002449</td>\n",
       "      <td>1.139800</td>\n",
       "      <td>1.0</td>\n",
       "      <td>0.299604</td>\n",
       "      <td>0.739050</td>\n",
       "      <td>-0.870988</td>\n",
       "      <td>-1.643177</td>\n",
       "      <td>0.259418</td>\n",
       "      <td>3.224089</td>\n",
       "      <td>-0.905515</td>\n",
       "    </tr>\n",
       "    <tr>\n",
       "      <th>1</th>\n",
       "      <td>0</td>\n",
       "      <td>train</td>\n",
       "      <td>11620</td>\n",
       "      <td>-2.066605</td>\n",
       "      <td>-1.666932</td>\n",
       "      <td>0.0</td>\n",
       "      <td>0.087665</td>\n",
       "      <td>0.316779</td>\n",
       "      <td>0.918004</td>\n",
       "      <td>-0.143202</td>\n",
       "      <td>...</td>\n",
       "      <td>-2.153467</td>\n",
       "      <td>-0.122552</td>\n",
       "      <td>0.0</td>\n",
       "      <td>0.978408</td>\n",
       "      <td>-0.335446</td>\n",
       "      <td>0.698805</td>\n",
       "      <td>1.920243</td>\n",
       "      <td>0.397668</td>\n",
       "      <td>-0.979179</td>\n",
       "      <td>-1.496148</td>\n",
       "    </tr>\n",
       "    <tr>\n",
       "      <th>2</th>\n",
       "      <td>0</td>\n",
       "      <td>train</td>\n",
       "      <td>11621</td>\n",
       "      <td>-1.419976</td>\n",
       "      <td>0.570124</td>\n",
       "      <td>0.0</td>\n",
       "      <td>3.117520</td>\n",
       "      <td>-1.767073</td>\n",
       "      <td>1.087783</td>\n",
       "      <td>1.596354</td>\n",
       "      <td>...</td>\n",
       "      <td>0.541124</td>\n",
       "      <td>-2.008305</td>\n",
       "      <td>0.0</td>\n",
       "      <td>0.437926</td>\n",
       "      <td>-0.052971</td>\n",
       "      <td>1.839667</td>\n",
       "      <td>1.872591</td>\n",
       "      <td>0.065527</td>\n",
       "      <td>1.620158</td>\n",
       "      <td>0.235264</td>\n",
       "    </tr>\n",
       "    <tr>\n",
       "      <th>3</th>\n",
       "      <td>0</td>\n",
       "      <td>train</td>\n",
       "      <td>11622</td>\n",
       "      <td>0.241241</td>\n",
       "      <td>-1.165185</td>\n",
       "      <td>0.0</td>\n",
       "      <td>-0.946474</td>\n",
       "      <td>0.288386</td>\n",
       "      <td>0.908839</td>\n",
       "      <td>1.049859</td>\n",
       "      <td>...</td>\n",
       "      <td>-0.298835</td>\n",
       "      <td>0.239494</td>\n",
       "      <td>0.0</td>\n",
       "      <td>-0.797018</td>\n",
       "      <td>-0.289733</td>\n",
       "      <td>0.836043</td>\n",
       "      <td>0.675707</td>\n",
       "      <td>0.293216</td>\n",
       "      <td>0.566113</td>\n",
       "      <td>0.311053</td>\n",
       "    </tr>\n",
       "    <tr>\n",
       "      <th>4</th>\n",
       "      <td>0</td>\n",
       "      <td>train</td>\n",
       "      <td>11623</td>\n",
       "      <td>-0.062594</td>\n",
       "      <td>0.446797</td>\n",
       "      <td>0.0</td>\n",
       "      <td>-0.039862</td>\n",
       "      <td>0.305150</td>\n",
       "      <td>-0.087690</td>\n",
       "      <td>-0.157288</td>\n",
       "      <td>...</td>\n",
       "      <td>-0.910352</td>\n",
       "      <td>-0.607310</td>\n",
       "      <td>0.0</td>\n",
       "      <td>1.142165</td>\n",
       "      <td>-1.211827</td>\n",
       "      <td>-0.241350</td>\n",
       "      <td>-0.354882</td>\n",
       "      <td>-1.209285</td>\n",
       "      <td>0.545290</td>\n",
       "      <td>0.092345</td>\n",
       "    </tr>\n",
       "  </tbody>\n",
       "</table>\n",
       "<p>5 rows × 421 columns</p>\n",
       "</div>"
      ],
      "text/plain": [
       "   target   smpl     id  feature_1  feature_2  feature_3  feature_4  \\\n",
       "0       0  train  11619  -0.803605   1.373680        1.0  -0.147178   \n",
       "1       0  train  11620  -2.066605  -1.666932        0.0   0.087665   \n",
       "2       0  train  11621  -1.419976   0.570124        0.0   3.117520   \n",
       "3       0  train  11622   0.241241  -1.165185        0.0  -0.946474   \n",
       "4       0  train  11623  -0.062594   0.446797        0.0  -0.039862   \n",
       "\n",
       "   feature_5  feature_6  feature_7  ...  feature_409  feature_410  \\\n",
       "0  -1.135569  -0.829743  -0.688879  ...     2.002449     1.139800   \n",
       "1   0.316779   0.918004  -0.143202  ...    -2.153467    -0.122552   \n",
       "2  -1.767073   1.087783   1.596354  ...     0.541124    -2.008305   \n",
       "3   0.288386   0.908839   1.049859  ...    -0.298835     0.239494   \n",
       "4   0.305150  -0.087690  -0.157288  ...    -0.910352    -0.607310   \n",
       "\n",
       "   feature_411  feature_412  feature_413  feature_414  feature_415  \\\n",
       "0          1.0     0.299604     0.739050    -0.870988    -1.643177   \n",
       "1          0.0     0.978408    -0.335446     0.698805     1.920243   \n",
       "2          0.0     0.437926    -0.052971     1.839667     1.872591   \n",
       "3          0.0    -0.797018    -0.289733     0.836043     0.675707   \n",
       "4          0.0     1.142165    -1.211827    -0.241350    -0.354882   \n",
       "\n",
       "   feature_416  feature_417  feature_418  \n",
       "0     0.259418     3.224089    -0.905515  \n",
       "1     0.397668    -0.979179    -1.496148  \n",
       "2     0.065527     1.620158     0.235264  \n",
       "3     0.293216     0.566113     0.311053  \n",
       "4    -1.209285     0.545290     0.092345  \n",
       "\n",
       "[5 rows x 421 columns]"
      ]
     },
     "metadata": {},
     "output_type": "display_data"
    },
    {
     "data": {
      "text/plain": [
       "smpl\n",
       "train    38731\n",
       "Name: count, dtype: int64"
      ]
     },
     "execution_count": 12,
     "metadata": {},
     "output_type": "execute_result"
    }
   ],
   "source": [
    "# Получим список путей к файлам в папке train\n",
    "filenames_train = glob.glob(path_train + \"/*.csv\")\n",
    "\n",
    "# Создадим список для записи считанных файлов train\n",
    "data_files_train = []\n",
    "\n",
    "# Считаем все файлы train и добавим их в список\n",
    "for filename in filenames_train:\n",
    "    data_files_train.append(pd.read_csv(filename))\n",
    "\n",
    "# Объединим тренировочные данные в единый датасет\n",
    "data_train = pd.concat(data_files_train, ignore_index=True)\n",
    "\n",
    "# Выведем информацию о размерности полученных тренировочных данных\n",
    "display('Размерность полных тренировочных данных составляет: {} строка и {} столбец'.format(*data_train.shape))\n",
    "\n",
    "# Выведем первые 5 строк тренировочных данных\n",
    "display(data_train.head())\n",
    "\n",
    "# Удостоверимся, что перед нами данные только из выборки train\n",
    "data_train['smpl'].value_counts(dropna=False)"
   ]
  },
  {
   "cell_type": "code",
   "execution_count": 13,
   "metadata": {
    "ExecuteTime": {
     "end_time": "2024-11-05T08:02:15.807006Z",
     "start_time": "2024-11-05T08:02:15.221780Z"
    },
    "id": "JDXORpHfzDC9"
   },
   "outputs": [
    {
     "data": {
      "text/plain": [
       "'Размерность полных тренировочных данных составляет: 19826 строк и 420 столбцов'"
      ]
     },
     "metadata": {},
     "output_type": "display_data"
    },
    {
     "data": {
      "text/html": [
       "<div>\n",
       "<style scoped>\n",
       "    .dataframe tbody tr th:only-of-type {\n",
       "        vertical-align: middle;\n",
       "    }\n",
       "\n",
       "    .dataframe tbody tr th {\n",
       "        vertical-align: top;\n",
       "    }\n",
       "\n",
       "    .dataframe thead th {\n",
       "        text-align: right;\n",
       "    }\n",
       "</style>\n",
       "<table border=\"1\" class=\"dataframe\">\n",
       "  <thead>\n",
       "    <tr style=\"text-align: right;\">\n",
       "      <th></th>\n",
       "      <th>smpl</th>\n",
       "      <th>id</th>\n",
       "      <th>feature_1</th>\n",
       "      <th>feature_2</th>\n",
       "      <th>feature_3</th>\n",
       "      <th>feature_4</th>\n",
       "      <th>feature_5</th>\n",
       "      <th>feature_6</th>\n",
       "      <th>feature_7</th>\n",
       "      <th>feature_8</th>\n",
       "      <th>...</th>\n",
       "      <th>feature_409</th>\n",
       "      <th>feature_410</th>\n",
       "      <th>feature_411</th>\n",
       "      <th>feature_412</th>\n",
       "      <th>feature_413</th>\n",
       "      <th>feature_414</th>\n",
       "      <th>feature_415</th>\n",
       "      <th>feature_416</th>\n",
       "      <th>feature_417</th>\n",
       "      <th>feature_418</th>\n",
       "    </tr>\n",
       "  </thead>\n",
       "  <tbody>\n",
       "    <tr>\n",
       "      <th>0</th>\n",
       "      <td>test</td>\n",
       "      <td>38731</td>\n",
       "      <td>0.262983</td>\n",
       "      <td>-1.153775</td>\n",
       "      <td>1.0</td>\n",
       "      <td>-0.648932</td>\n",
       "      <td>-0.847237</td>\n",
       "      <td>-0.462393</td>\n",
       "      <td>-1.215373</td>\n",
       "      <td>0.605520</td>\n",
       "      <td>...</td>\n",
       "      <td>-0.236218</td>\n",
       "      <td>-1.058259</td>\n",
       "      <td>0.0</td>\n",
       "      <td>0.835147</td>\n",
       "      <td>-0.176562</td>\n",
       "      <td>-1.455333</td>\n",
       "      <td>-0.766280</td>\n",
       "      <td>-1.365915</td>\n",
       "      <td>0.454763</td>\n",
       "      <td>0.809724</td>\n",
       "    </tr>\n",
       "    <tr>\n",
       "      <th>1</th>\n",
       "      <td>test</td>\n",
       "      <td>38732</td>\n",
       "      <td>-0.698407</td>\n",
       "      <td>-1.529096</td>\n",
       "      <td>1.0</td>\n",
       "      <td>0.033011</td>\n",
       "      <td>-1.166594</td>\n",
       "      <td>-0.889886</td>\n",
       "      <td>-0.900391</td>\n",
       "      <td>-1.201925</td>\n",
       "      <td>...</td>\n",
       "      <td>-1.157688</td>\n",
       "      <td>0.334938</td>\n",
       "      <td>0.0</td>\n",
       "      <td>-0.231860</td>\n",
       "      <td>-0.080340</td>\n",
       "      <td>-0.493846</td>\n",
       "      <td>-1.245681</td>\n",
       "      <td>-1.632521</td>\n",
       "      <td>0.246708</td>\n",
       "      <td>-0.226893</td>\n",
       "    </tr>\n",
       "    <tr>\n",
       "      <th>2</th>\n",
       "      <td>test</td>\n",
       "      <td>38733</td>\n",
       "      <td>-0.331403</td>\n",
       "      <td>-0.538437</td>\n",
       "      <td>1.0</td>\n",
       "      <td>-1.531462</td>\n",
       "      <td>-0.924031</td>\n",
       "      <td>-1.062342</td>\n",
       "      <td>-1.789274</td>\n",
       "      <td>-1.097902</td>\n",
       "      <td>...</td>\n",
       "      <td>-1.159555</td>\n",
       "      <td>0.351526</td>\n",
       "      <td>0.0</td>\n",
       "      <td>-1.375061</td>\n",
       "      <td>-0.156735</td>\n",
       "      <td>-0.437773</td>\n",
       "      <td>-1.851818</td>\n",
       "      <td>0.984694</td>\n",
       "      <td>0.630962</td>\n",
       "      <td>0.279446</td>\n",
       "    </tr>\n",
       "    <tr>\n",
       "      <th>3</th>\n",
       "      <td>test</td>\n",
       "      <td>38734</td>\n",
       "      <td>0.675162</td>\n",
       "      <td>-0.077064</td>\n",
       "      <td>1.0</td>\n",
       "      <td>-1.893065</td>\n",
       "      <td>0.610631</td>\n",
       "      <td>-1.404934</td>\n",
       "      <td>-2.650392</td>\n",
       "      <td>-1.752463</td>\n",
       "      <td>...</td>\n",
       "      <td>0.180918</td>\n",
       "      <td>0.269593</td>\n",
       "      <td>0.0</td>\n",
       "      <td>1.054666</td>\n",
       "      <td>-0.219652</td>\n",
       "      <td>-0.438285</td>\n",
       "      <td>-0.707442</td>\n",
       "      <td>-1.498935</td>\n",
       "      <td>0.962498</td>\n",
       "      <td>-0.390251</td>\n",
       "    </tr>\n",
       "    <tr>\n",
       "      <th>4</th>\n",
       "      <td>test</td>\n",
       "      <td>38735</td>\n",
       "      <td>-2.162385</td>\n",
       "      <td>-1.737901</td>\n",
       "      <td>1.0</td>\n",
       "      <td>-1.899384</td>\n",
       "      <td>-1.384151</td>\n",
       "      <td>0.106314</td>\n",
       "      <td>-0.814678</td>\n",
       "      <td>1.111808</td>\n",
       "      <td>...</td>\n",
       "      <td>0.696544</td>\n",
       "      <td>1.006378</td>\n",
       "      <td>0.0</td>\n",
       "      <td>1.107787</td>\n",
       "      <td>-0.282357</td>\n",
       "      <td>-0.235000</td>\n",
       "      <td>-1.794316</td>\n",
       "      <td>-0.504509</td>\n",
       "      <td>-0.385182</td>\n",
       "      <td>-1.130777</td>\n",
       "    </tr>\n",
       "  </tbody>\n",
       "</table>\n",
       "<p>5 rows × 420 columns</p>\n",
       "</div>"
      ],
      "text/plain": [
       "   smpl     id  feature_1  feature_2  feature_3  feature_4  feature_5  \\\n",
       "0  test  38731   0.262983  -1.153775        1.0  -0.648932  -0.847237   \n",
       "1  test  38732  -0.698407  -1.529096        1.0   0.033011  -1.166594   \n",
       "2  test  38733  -0.331403  -0.538437        1.0  -1.531462  -0.924031   \n",
       "3  test  38734   0.675162  -0.077064        1.0  -1.893065   0.610631   \n",
       "4  test  38735  -2.162385  -1.737901        1.0  -1.899384  -1.384151   \n",
       "\n",
       "   feature_6  feature_7  feature_8  ...  feature_409  feature_410  \\\n",
       "0  -0.462393  -1.215373   0.605520  ...    -0.236218    -1.058259   \n",
       "1  -0.889886  -0.900391  -1.201925  ...    -1.157688     0.334938   \n",
       "2  -1.062342  -1.789274  -1.097902  ...    -1.159555     0.351526   \n",
       "3  -1.404934  -2.650392  -1.752463  ...     0.180918     0.269593   \n",
       "4   0.106314  -0.814678   1.111808  ...     0.696544     1.006378   \n",
       "\n",
       "   feature_411  feature_412  feature_413  feature_414  feature_415  \\\n",
       "0          0.0     0.835147    -0.176562    -1.455333    -0.766280   \n",
       "1          0.0    -0.231860    -0.080340    -0.493846    -1.245681   \n",
       "2          0.0    -1.375061    -0.156735    -0.437773    -1.851818   \n",
       "3          0.0     1.054666    -0.219652    -0.438285    -0.707442   \n",
       "4          0.0     1.107787    -0.282357    -0.235000    -1.794316   \n",
       "\n",
       "   feature_416  feature_417  feature_418  \n",
       "0    -1.365915     0.454763     0.809724  \n",
       "1    -1.632521     0.246708    -0.226893  \n",
       "2     0.984694     0.630962     0.279446  \n",
       "3    -1.498935     0.962498    -0.390251  \n",
       "4    -0.504509    -0.385182    -1.130777  \n",
       "\n",
       "[5 rows x 420 columns]"
      ]
     },
     "metadata": {},
     "output_type": "display_data"
    },
    {
     "data": {
      "text/plain": [
       "smpl\n",
       "test    19826\n",
       "Name: count, dtype: int64"
      ]
     },
     "execution_count": 13,
     "metadata": {},
     "output_type": "execute_result"
    }
   ],
   "source": [
    "# Получим список путей к файлам в папке test\n",
    "filenames_test = glob.glob(path_test + \"/*.csv\")\n",
    "\n",
    "# Создадим список для записи считанных файлов test\n",
    "data_files_test = []\n",
    "\n",
    "# Считаем все файлы test и добавим их в список\n",
    "for filename in filenames_test:\n",
    "    data_files_test.append(pd.read_csv(filename))\n",
    "\n",
    "# Объединим тестовые данные в единый датасет\n",
    "data_test = pd.concat(data_files_test, ignore_index=True)\n",
    "\n",
    "# Выведем информацию о размерности полученных тестовых данных\n",
    "display('Размерность полных тренировочных данных составляет: {} строк и {} столбцов'.format(*data_test.shape))\n",
    "\n",
    "# Выведем первые 5 строк тренировочных данных\n",
    "display(data_test.head())\n",
    "\n",
    "# Удостоверимся, что перед нами данные только из выборки test\n",
    "data_test['smpl'].value_counts(dropna=False)"
   ]
  },
  {
   "cell_type": "markdown",
   "metadata": {
    "id": "SsM0gb5X06fF"
   },
   "source": [
    "## Этап 2. Работа с моделью"
   ]
  },
  {
   "cell_type": "code",
   "execution_count": null,
   "metadata": {
    "ExecuteTime": {
     "end_time": "2024-11-05T08:21:03.425528Z",
     "start_time": "2024-11-05T08:21:03.059755Z"
    },
    "id": "YgR6w85z0-2y"
   },
   "outputs": [
    {
     "ename": "RecursionError",
     "evalue": "maximum recursion depth exceeded",
     "output_type": "error",
     "traceback": [
      "\u001b[0;31m---------------------------------------------------------------------------\u001b[0m",
      "\u001b[0;31mRecursionError\u001b[0m                            Traceback (most recent call last)",
      "Cell \u001b[0;32mIn[25], line 4\u001b[0m\n\u001b[1;32m      2\u001b[0m \u001b[38;5;28;01mfrom\u001b[39;00m \u001b[38;5;21;01msklearn\u001b[39;00m\u001b[38;5;21;01m.\u001b[39;00m\u001b[38;5;21;01mmodel_selection\u001b[39;00m \u001b[38;5;28;01mimport\u001b[39;00m train_test_split\n\u001b[1;32m      3\u001b[0m \u001b[38;5;28;01mfrom\u001b[39;00m \u001b[38;5;21;01msklearn\u001b[39;00m\u001b[38;5;21;01m.\u001b[39;00m\u001b[38;5;21;01mmetrics\u001b[39;00m \u001b[38;5;28;01mimport\u001b[39;00m roc_auc_score\n\u001b[0;32m----> 4\u001b[0m \u001b[38;5;28;01mfrom\u001b[39;00m \u001b[38;5;21;01mtensorflow\u001b[39;00m\u001b[38;5;21;01m.\u001b[39;00m\u001b[38;5;21;01mkeras\u001b[39;00m\u001b[38;5;21;01m.\u001b[39;00m\u001b[38;5;21;01mmodels\u001b[39;00m \u001b[38;5;28;01mimport\u001b[39;00m Sequential\n\u001b[1;32m      5\u001b[0m \u001b[38;5;28;01mfrom\u001b[39;00m \u001b[38;5;21;01mtensorflow\u001b[39;00m\u001b[38;5;21;01m.\u001b[39;00m\u001b[38;5;21;01mkeras\u001b[39;00m\u001b[38;5;21;01m.\u001b[39;00m\u001b[38;5;21;01mlayers\u001b[39;00m \u001b[38;5;28;01mimport\u001b[39;00m Dense, Dropout\n\u001b[1;32m      6\u001b[0m \u001b[38;5;28;01mfrom\u001b[39;00m \u001b[38;5;21;01mtensorflow\u001b[39;00m\u001b[38;5;21;01m.\u001b[39;00m\u001b[38;5;21;01mkeras\u001b[39;00m\u001b[38;5;21;01m.\u001b[39;00m\u001b[38;5;21;01moptimizers\u001b[39;00m \u001b[38;5;28;01mimport\u001b[39;00m Adam\n",
      "File \u001b[0;32m~/PycharmProjects/OOPPython/.venv/lib/python3.12/site-packages/tensorflow/__init__.py:45\u001b[0m\n\u001b[1;32m     42\u001b[0m \u001b[38;5;28;01mfrom\u001b[39;00m \u001b[38;5;21;01mtensorflow\u001b[39;00m\u001b[38;5;21;01m.\u001b[39;00m\u001b[38;5;21;01mpython\u001b[39;00m \u001b[38;5;28;01mimport\u001b[39;00m tf2 \u001b[38;5;28;01mas\u001b[39;00m _tf2\n\u001b[1;32m     43\u001b[0m _tf2\u001b[38;5;241m.\u001b[39menable()\n\u001b[0;32m---> 45\u001b[0m \u001b[38;5;28;01mfrom\u001b[39;00m \u001b[38;5;21;01mtensorflow\u001b[39;00m\u001b[38;5;21;01m.\u001b[39;00m\u001b[38;5;21;01m_api\u001b[39;00m\u001b[38;5;21;01m.\u001b[39;00m\u001b[38;5;21;01mv2\u001b[39;00m \u001b[38;5;28;01mimport\u001b[39;00m __internal__\n\u001b[1;32m     46\u001b[0m \u001b[38;5;28;01mfrom\u001b[39;00m \u001b[38;5;21;01mtensorflow\u001b[39;00m\u001b[38;5;21;01m.\u001b[39;00m\u001b[38;5;21;01m_api\u001b[39;00m\u001b[38;5;21;01m.\u001b[39;00m\u001b[38;5;21;01mv2\u001b[39;00m \u001b[38;5;28;01mimport\u001b[39;00m __operators__\n\u001b[1;32m     47\u001b[0m \u001b[38;5;28;01mfrom\u001b[39;00m \u001b[38;5;21;01mtensorflow\u001b[39;00m\u001b[38;5;21;01m.\u001b[39;00m\u001b[38;5;21;01m_api\u001b[39;00m\u001b[38;5;21;01m.\u001b[39;00m\u001b[38;5;21;01mv2\u001b[39;00m \u001b[38;5;28;01mimport\u001b[39;00m audio\n",
      "File \u001b[0;32m~/PycharmProjects/OOPPython/.venv/lib/python3.12/site-packages/tensorflow/_api/v2/__internal__/__init__.py:8\u001b[0m\n\u001b[1;32m      3\u001b[0m \u001b[38;5;124;03m\"\"\"Public API for tf._api.v2.__internal__ namespace\u001b[39;00m\n\u001b[1;32m      4\u001b[0m \u001b[38;5;124;03m\"\"\"\u001b[39;00m\n\u001b[1;32m      6\u001b[0m \u001b[38;5;28;01mimport\u001b[39;00m \u001b[38;5;21;01msys\u001b[39;00m \u001b[38;5;28;01mas\u001b[39;00m \u001b[38;5;21;01m_sys\u001b[39;00m\n\u001b[0;32m----> 8\u001b[0m \u001b[38;5;28;01mfrom\u001b[39;00m \u001b[38;5;21;01mtensorflow\u001b[39;00m\u001b[38;5;21;01m.\u001b[39;00m\u001b[38;5;21;01m_api\u001b[39;00m\u001b[38;5;21;01m.\u001b[39;00m\u001b[38;5;21;01mv2\u001b[39;00m\u001b[38;5;21;01m.\u001b[39;00m\u001b[38;5;21;01m__internal__\u001b[39;00m \u001b[38;5;28;01mimport\u001b[39;00m autograph\n\u001b[1;32m      9\u001b[0m \u001b[38;5;28;01mfrom\u001b[39;00m \u001b[38;5;21;01mtensorflow\u001b[39;00m\u001b[38;5;21;01m.\u001b[39;00m\u001b[38;5;21;01m_api\u001b[39;00m\u001b[38;5;21;01m.\u001b[39;00m\u001b[38;5;21;01mv2\u001b[39;00m\u001b[38;5;21;01m.\u001b[39;00m\u001b[38;5;21;01m__internal__\u001b[39;00m \u001b[38;5;28;01mimport\u001b[39;00m decorator\n\u001b[1;32m     10\u001b[0m \u001b[38;5;28;01mfrom\u001b[39;00m \u001b[38;5;21;01mtensorflow\u001b[39;00m\u001b[38;5;21;01m.\u001b[39;00m\u001b[38;5;21;01m_api\u001b[39;00m\u001b[38;5;21;01m.\u001b[39;00m\u001b[38;5;21;01mv2\u001b[39;00m\u001b[38;5;21;01m.\u001b[39;00m\u001b[38;5;21;01m__internal__\u001b[39;00m \u001b[38;5;28;01mimport\u001b[39;00m dispatch\n",
      "File \u001b[0;32m~/PycharmProjects/OOPPython/.venv/lib/python3.12/site-packages/tensorflow/_api/v2/__internal__/autograph/__init__.py:8\u001b[0m\n\u001b[1;32m      3\u001b[0m \u001b[38;5;124;03m\"\"\"Public API for tf._api.v2.__internal__.autograph namespace\u001b[39;00m\n\u001b[1;32m      4\u001b[0m \u001b[38;5;124;03m\"\"\"\u001b[39;00m\n\u001b[1;32m      6\u001b[0m \u001b[38;5;28;01mimport\u001b[39;00m \u001b[38;5;21;01msys\u001b[39;00m \u001b[38;5;28;01mas\u001b[39;00m \u001b[38;5;21;01m_sys\u001b[39;00m\n\u001b[0;32m----> 8\u001b[0m \u001b[38;5;28;01mfrom\u001b[39;00m \u001b[38;5;21;01mtensorflow\u001b[39;00m\u001b[38;5;21;01m.\u001b[39;00m\u001b[38;5;21;01mpython\u001b[39;00m\u001b[38;5;21;01m.\u001b[39;00m\u001b[38;5;21;01mautograph\u001b[39;00m\u001b[38;5;21;01m.\u001b[39;00m\u001b[38;5;21;01mcore\u001b[39;00m\u001b[38;5;21;01m.\u001b[39;00m\u001b[38;5;21;01mag_ctx\u001b[39;00m \u001b[38;5;28;01mimport\u001b[39;00m control_status_ctx \u001b[38;5;66;03m# line: 34\u001b[39;00m\n\u001b[1;32m      9\u001b[0m \u001b[38;5;28;01mfrom\u001b[39;00m \u001b[38;5;21;01mtensorflow\u001b[39;00m\u001b[38;5;21;01m.\u001b[39;00m\u001b[38;5;21;01mpython\u001b[39;00m\u001b[38;5;21;01m.\u001b[39;00m\u001b[38;5;21;01mautograph\u001b[39;00m\u001b[38;5;21;01m.\u001b[39;00m\u001b[38;5;21;01mimpl\u001b[39;00m\u001b[38;5;21;01m.\u001b[39;00m\u001b[38;5;21;01mapi\u001b[39;00m \u001b[38;5;28;01mimport\u001b[39;00m tf_convert \u001b[38;5;66;03m# line: 493\u001b[39;00m\n",
      "File \u001b[0;32m~/PycharmProjects/OOPPython/.venv/lib/python3.12/site-packages/tensorflow/python/autograph/core/ag_ctx.py:21\u001b[0m\n\u001b[1;32m     18\u001b[0m \u001b[38;5;28;01mimport\u001b[39;00m \u001b[38;5;21;01minspect\u001b[39;00m\n\u001b[1;32m     19\u001b[0m \u001b[38;5;28;01mimport\u001b[39;00m \u001b[38;5;21;01mthreading\u001b[39;00m\n\u001b[0;32m---> 21\u001b[0m \u001b[38;5;28;01mfrom\u001b[39;00m \u001b[38;5;21;01mtensorflow\u001b[39;00m\u001b[38;5;21;01m.\u001b[39;00m\u001b[38;5;21;01mpython\u001b[39;00m\u001b[38;5;21;01m.\u001b[39;00m\u001b[38;5;21;01mautograph\u001b[39;00m\u001b[38;5;21;01m.\u001b[39;00m\u001b[38;5;21;01mutils\u001b[39;00m \u001b[38;5;28;01mimport\u001b[39;00m ag_logging\n\u001b[1;32m     22\u001b[0m \u001b[38;5;28;01mfrom\u001b[39;00m \u001b[38;5;21;01mtensorflow\u001b[39;00m\u001b[38;5;21;01m.\u001b[39;00m\u001b[38;5;21;01mpython\u001b[39;00m\u001b[38;5;21;01m.\u001b[39;00m\u001b[38;5;21;01mutil\u001b[39;00m\u001b[38;5;21;01m.\u001b[39;00m\u001b[38;5;21;01mtf_export\u001b[39;00m \u001b[38;5;28;01mimport\u001b[39;00m tf_export\n\u001b[1;32m     25\u001b[0m stacks \u001b[38;5;241m=\u001b[39m threading\u001b[38;5;241m.\u001b[39mlocal()\n",
      "File \u001b[0;32m~/PycharmProjects/OOPPython/.venv/lib/python3.12/site-packages/tensorflow/python/autograph/utils/__init__.py:17\u001b[0m\n\u001b[1;32m      1\u001b[0m \u001b[38;5;66;03m# Copyright 2016 The TensorFlow Authors. All Rights Reserved.\u001b[39;00m\n\u001b[1;32m      2\u001b[0m \u001b[38;5;66;03m#\u001b[39;00m\n\u001b[1;32m      3\u001b[0m \u001b[38;5;66;03m# Licensed under the Apache License, Version 2.0 (the \"License\");\u001b[39;00m\n\u001b[0;32m   (...)\u001b[0m\n\u001b[1;32m     13\u001b[0m \u001b[38;5;66;03m# limitations under the License.\u001b[39;00m\n\u001b[1;32m     14\u001b[0m \u001b[38;5;66;03m# ==============================================================================\u001b[39;00m\n\u001b[1;32m     15\u001b[0m \u001b[38;5;124;03m\"\"\"Utility module that contains APIs usable in the generated code.\"\"\"\u001b[39;00m\n\u001b[0;32m---> 17\u001b[0m \u001b[38;5;28;01mfrom\u001b[39;00m \u001b[38;5;21;01mtensorflow\u001b[39;00m\u001b[38;5;21;01m.\u001b[39;00m\u001b[38;5;21;01mpython\u001b[39;00m\u001b[38;5;21;01m.\u001b[39;00m\u001b[38;5;21;01mautograph\u001b[39;00m\u001b[38;5;21;01m.\u001b[39;00m\u001b[38;5;21;01mutils\u001b[39;00m\u001b[38;5;21;01m.\u001b[39;00m\u001b[38;5;21;01mcontext_managers\u001b[39;00m \u001b[38;5;28;01mimport\u001b[39;00m control_dependency_on_returns\n\u001b[1;32m     18\u001b[0m \u001b[38;5;28;01mfrom\u001b[39;00m \u001b[38;5;21;01mtensorflow\u001b[39;00m\u001b[38;5;21;01m.\u001b[39;00m\u001b[38;5;21;01mpython\u001b[39;00m\u001b[38;5;21;01m.\u001b[39;00m\u001b[38;5;21;01mautograph\u001b[39;00m\u001b[38;5;21;01m.\u001b[39;00m\u001b[38;5;21;01mutils\u001b[39;00m\u001b[38;5;21;01m.\u001b[39;00m\u001b[38;5;21;01mmisc\u001b[39;00m \u001b[38;5;28;01mimport\u001b[39;00m alias_tensors\n\u001b[1;32m     19\u001b[0m \u001b[38;5;28;01mfrom\u001b[39;00m \u001b[38;5;21;01mtensorflow\u001b[39;00m\u001b[38;5;21;01m.\u001b[39;00m\u001b[38;5;21;01mpython\u001b[39;00m\u001b[38;5;21;01m.\u001b[39;00m\u001b[38;5;21;01mautograph\u001b[39;00m\u001b[38;5;21;01m.\u001b[39;00m\u001b[38;5;21;01mutils\u001b[39;00m\u001b[38;5;21;01m.\u001b[39;00m\u001b[38;5;21;01mtensor_list\u001b[39;00m \u001b[38;5;28;01mimport\u001b[39;00m dynamic_list_append\n",
      "File \u001b[0;32m~/PycharmProjects/OOPPython/.venv/lib/python3.12/site-packages/tensorflow/python/autograph/utils/context_managers.py:19\u001b[0m\n\u001b[1;32m     15\u001b[0m \u001b[38;5;124;03m\"\"\"Various context managers.\"\"\"\u001b[39;00m\n\u001b[1;32m     17\u001b[0m \u001b[38;5;28;01mimport\u001b[39;00m \u001b[38;5;21;01mcontextlib\u001b[39;00m\n\u001b[0;32m---> 19\u001b[0m \u001b[38;5;28;01mfrom\u001b[39;00m \u001b[38;5;21;01mtensorflow\u001b[39;00m\u001b[38;5;21;01m.\u001b[39;00m\u001b[38;5;21;01mpython\u001b[39;00m\u001b[38;5;21;01m.\u001b[39;00m\u001b[38;5;21;01mframework\u001b[39;00m \u001b[38;5;28;01mimport\u001b[39;00m ops\n\u001b[1;32m     20\u001b[0m \u001b[38;5;28;01mfrom\u001b[39;00m \u001b[38;5;21;01mtensorflow\u001b[39;00m\u001b[38;5;21;01m.\u001b[39;00m\u001b[38;5;21;01mpython\u001b[39;00m\u001b[38;5;21;01m.\u001b[39;00m\u001b[38;5;21;01mops\u001b[39;00m \u001b[38;5;28;01mimport\u001b[39;00m tensor_array_ops\n\u001b[1;32m     23\u001b[0m \u001b[38;5;28;01mdef\u001b[39;00m \u001b[38;5;21mcontrol_dependency_on_returns\u001b[39m(return_value):\n",
      "File \u001b[0;32m~/PycharmProjects/OOPPython/.venv/lib/python3.12/site-packages/tensorflow/python/framework/ops.py:50\u001b[0m\n\u001b[1;32m     48\u001b[0m \u001b[38;5;28;01mfrom\u001b[39;00m \u001b[38;5;21;01mtensorflow\u001b[39;00m\u001b[38;5;21;01m.\u001b[39;00m\u001b[38;5;21;01mpython\u001b[39;00m \u001b[38;5;28;01mimport\u001b[39;00m tf2\n\u001b[1;32m     49\u001b[0m \u001b[38;5;28;01mfrom\u001b[39;00m \u001b[38;5;21;01mtensorflow\u001b[39;00m\u001b[38;5;21;01m.\u001b[39;00m\u001b[38;5;21;01mpython\u001b[39;00m\u001b[38;5;21;01m.\u001b[39;00m\u001b[38;5;21;01mclient\u001b[39;00m \u001b[38;5;28;01mimport\u001b[39;00m pywrap_tf_session\n\u001b[0;32m---> 50\u001b[0m \u001b[38;5;28;01mfrom\u001b[39;00m \u001b[38;5;21;01mtensorflow\u001b[39;00m\u001b[38;5;21;01m.\u001b[39;00m\u001b[38;5;21;01mpython\u001b[39;00m\u001b[38;5;21;01m.\u001b[39;00m\u001b[38;5;21;01meager\u001b[39;00m \u001b[38;5;28;01mimport\u001b[39;00m context\n\u001b[1;32m     51\u001b[0m \u001b[38;5;28;01mfrom\u001b[39;00m \u001b[38;5;21;01mtensorflow\u001b[39;00m\u001b[38;5;21;01m.\u001b[39;00m\u001b[38;5;21;01mpython\u001b[39;00m\u001b[38;5;21;01m.\u001b[39;00m\u001b[38;5;21;01meager\u001b[39;00m \u001b[38;5;28;01mimport\u001b[39;00m core\n\u001b[1;32m     52\u001b[0m \u001b[38;5;28;01mfrom\u001b[39;00m \u001b[38;5;21;01mtensorflow\u001b[39;00m\u001b[38;5;21;01m.\u001b[39;00m\u001b[38;5;21;01mpython\u001b[39;00m\u001b[38;5;21;01m.\u001b[39;00m\u001b[38;5;21;01meager\u001b[39;00m \u001b[38;5;28;01mimport\u001b[39;00m monitoring\n",
      "File \u001b[0;32m~/PycharmProjects/OOPPython/.venv/lib/python3.12/site-packages/tensorflow/python/eager/context.py:37\u001b[0m\n\u001b[1;32m     35\u001b[0m \u001b[38;5;28;01mfrom\u001b[39;00m \u001b[38;5;21;01mtensorflow\u001b[39;00m\u001b[38;5;21;01m.\u001b[39;00m\u001b[38;5;21;01mpython\u001b[39;00m\u001b[38;5;21;01m.\u001b[39;00m\u001b[38;5;21;01mclient\u001b[39;00m \u001b[38;5;28;01mimport\u001b[39;00m pywrap_tf_session\n\u001b[1;32m     36\u001b[0m \u001b[38;5;28;01mfrom\u001b[39;00m \u001b[38;5;21;01mtensorflow\u001b[39;00m\u001b[38;5;21;01m.\u001b[39;00m\u001b[38;5;21;01mpython\u001b[39;00m\u001b[38;5;21;01m.\u001b[39;00m\u001b[38;5;21;01meager\u001b[39;00m \u001b[38;5;28;01mimport\u001b[39;00m cancellation\n\u001b[0;32m---> 37\u001b[0m \u001b[38;5;28;01mfrom\u001b[39;00m \u001b[38;5;21;01mtensorflow\u001b[39;00m\u001b[38;5;21;01m.\u001b[39;00m\u001b[38;5;21;01mpython\u001b[39;00m\u001b[38;5;21;01m.\u001b[39;00m\u001b[38;5;21;01meager\u001b[39;00m \u001b[38;5;28;01mimport\u001b[39;00m execute\n\u001b[1;32m     38\u001b[0m \u001b[38;5;28;01mfrom\u001b[39;00m \u001b[38;5;21;01mtensorflow\u001b[39;00m\u001b[38;5;21;01m.\u001b[39;00m\u001b[38;5;21;01mpython\u001b[39;00m\u001b[38;5;21;01m.\u001b[39;00m\u001b[38;5;21;01meager\u001b[39;00m \u001b[38;5;28;01mimport\u001b[39;00m executor\n\u001b[1;32m     39\u001b[0m \u001b[38;5;28;01mfrom\u001b[39;00m \u001b[38;5;21;01mtensorflow\u001b[39;00m\u001b[38;5;21;01m.\u001b[39;00m\u001b[38;5;21;01mpython\u001b[39;00m\u001b[38;5;21;01m.\u001b[39;00m\u001b[38;5;21;01meager\u001b[39;00m \u001b[38;5;28;01mimport\u001b[39;00m monitoring\n",
      "File \u001b[0;32m~/PycharmProjects/OOPPython/.venv/lib/python3.12/site-packages/tensorflow/python/eager/execute.py:21\u001b[0m\n\u001b[1;32m     19\u001b[0m \u001b[38;5;28;01mfrom\u001b[39;00m \u001b[38;5;21;01mtensorflow\u001b[39;00m\u001b[38;5;21;01m.\u001b[39;00m\u001b[38;5;21;01mpython\u001b[39;00m \u001b[38;5;28;01mimport\u001b[39;00m pywrap_tfe\n\u001b[1;32m     20\u001b[0m \u001b[38;5;28;01mfrom\u001b[39;00m \u001b[38;5;21;01mtensorflow\u001b[39;00m\u001b[38;5;21;01m.\u001b[39;00m\u001b[38;5;21;01mpython\u001b[39;00m\u001b[38;5;21;01m.\u001b[39;00m\u001b[38;5;21;01meager\u001b[39;00m \u001b[38;5;28;01mimport\u001b[39;00m core\n\u001b[0;32m---> 21\u001b[0m \u001b[38;5;28;01mfrom\u001b[39;00m \u001b[38;5;21;01mtensorflow\u001b[39;00m\u001b[38;5;21;01m.\u001b[39;00m\u001b[38;5;21;01mpython\u001b[39;00m\u001b[38;5;21;01m.\u001b[39;00m\u001b[38;5;21;01mframework\u001b[39;00m \u001b[38;5;28;01mimport\u001b[39;00m dtypes\n\u001b[1;32m     22\u001b[0m \u001b[38;5;28;01mfrom\u001b[39;00m \u001b[38;5;21;01mtensorflow\u001b[39;00m\u001b[38;5;21;01m.\u001b[39;00m\u001b[38;5;21;01mpython\u001b[39;00m\u001b[38;5;21;01m.\u001b[39;00m\u001b[38;5;21;01mframework\u001b[39;00m \u001b[38;5;28;01mimport\u001b[39;00m tensor_conversion_registry\n\u001b[1;32m     23\u001b[0m \u001b[38;5;28;01mfrom\u001b[39;00m \u001b[38;5;21;01mtensorflow\u001b[39;00m\u001b[38;5;21;01m.\u001b[39;00m\u001b[38;5;21;01mpython\u001b[39;00m\u001b[38;5;21;01m.\u001b[39;00m\u001b[38;5;21;01mframework\u001b[39;00m \u001b[38;5;28;01mimport\u001b[39;00m tensor_shape\n",
      "File \u001b[0;32m~/PycharmProjects/OOPPython/.venv/lib/python3.12/site-packages/tensorflow/python/framework/dtypes.py:21\u001b[0m\n\u001b[1;32m     18\u001b[0m \u001b[38;5;28;01mimport\u001b[39;00m \u001b[38;5;21;01mdataclasses\u001b[39;00m\n\u001b[1;32m     19\u001b[0m \u001b[38;5;28;01mfrom\u001b[39;00m \u001b[38;5;21;01mtyping\u001b[39;00m \u001b[38;5;28;01mimport\u001b[39;00m Type, Sequence, Optional\n\u001b[0;32m---> 21\u001b[0m \u001b[38;5;28;01mimport\u001b[39;00m \u001b[38;5;21;01mml_dtypes\u001b[39;00m\n\u001b[1;32m     22\u001b[0m \u001b[38;5;28;01mimport\u001b[39;00m \u001b[38;5;21;01mnumpy\u001b[39;00m \u001b[38;5;28;01mas\u001b[39;00m \u001b[38;5;21;01mnp\u001b[39;00m\n\u001b[1;32m     24\u001b[0m \u001b[38;5;28;01mfrom\u001b[39;00m \u001b[38;5;21;01mtensorflow\u001b[39;00m\u001b[38;5;21;01m.\u001b[39;00m\u001b[38;5;21;01mcore\u001b[39;00m\u001b[38;5;21;01m.\u001b[39;00m\u001b[38;5;21;01mframework\u001b[39;00m \u001b[38;5;28;01mimport\u001b[39;00m types_pb2\n",
      "File \u001b[0;32m~/PycharmProjects/OOPPython/.venv/lib/python3.12/site-packages/ml_dtypes/__init__.py:32\u001b[0m\n\u001b[1;32m     16\u001b[0m __all__ \u001b[38;5;241m=\u001b[39m [\n\u001b[1;32m     17\u001b[0m     \u001b[38;5;124m'\u001b[39m\u001b[38;5;124m__version__\u001b[39m\u001b[38;5;124m'\u001b[39m,\n\u001b[1;32m     18\u001b[0m     \u001b[38;5;124m'\u001b[39m\u001b[38;5;124mbfloat16\u001b[39m\u001b[38;5;124m'\u001b[39m,\n\u001b[0;32m   (...)\u001b[0m\n\u001b[1;32m     27\u001b[0m     \u001b[38;5;124m'\u001b[39m\u001b[38;5;124muint4\u001b[39m\u001b[38;5;124m'\u001b[39m,\n\u001b[1;32m     28\u001b[0m ]\n\u001b[1;32m     30\u001b[0m \u001b[38;5;28;01mfrom\u001b[39;00m \u001b[38;5;21;01mtyping\u001b[39;00m \u001b[38;5;28;01mimport\u001b[39;00m Type\n\u001b[0;32m---> 32\u001b[0m \u001b[38;5;28;01mfrom\u001b[39;00m \u001b[38;5;21;01mml_dtypes\u001b[39;00m\u001b[38;5;21;01m.\u001b[39;00m\u001b[38;5;21;01m_finfo\u001b[39;00m \u001b[38;5;28;01mimport\u001b[39;00m finfo\n\u001b[1;32m     33\u001b[0m \u001b[38;5;28;01mfrom\u001b[39;00m \u001b[38;5;21;01mml_dtypes\u001b[39;00m\u001b[38;5;21;01m.\u001b[39;00m\u001b[38;5;21;01m_iinfo\u001b[39;00m \u001b[38;5;28;01mimport\u001b[39;00m iinfo\n\u001b[1;32m     34\u001b[0m \u001b[38;5;28;01mfrom\u001b[39;00m \u001b[38;5;21;01mml_dtypes\u001b[39;00m\u001b[38;5;21;01m.\u001b[39;00m\u001b[38;5;21;01m_ml_dtypes_ext\u001b[39;00m \u001b[38;5;28;01mimport\u001b[39;00m bfloat16\n",
      "File \u001b[0;32m~/PycharmProjects/OOPPython/.venv/lib/python3.12/site-packages/ml_dtypes/_finfo.py:27\u001b[0m\n\u001b[1;32m     24\u001b[0m \u001b[38;5;28;01mfrom\u001b[39;00m \u001b[38;5;21;01mml_dtypes\u001b[39;00m\u001b[38;5;21;01m.\u001b[39;00m\u001b[38;5;21;01m_ml_dtypes_ext\u001b[39;00m \u001b[38;5;28;01mimport\u001b[39;00m float8_e5m2fnuz\n\u001b[1;32m     25\u001b[0m \u001b[38;5;28;01mimport\u001b[39;00m \u001b[38;5;21;01mnumpy\u001b[39;00m \u001b[38;5;28;01mas\u001b[39;00m \u001b[38;5;21;01mnp\u001b[39;00m\n\u001b[0;32m---> 27\u001b[0m _bfloat16_dtype \u001b[38;5;241m=\u001b[39m \u001b[43mnp\u001b[49m\u001b[38;5;241;43m.\u001b[39;49m\u001b[43mdtype\u001b[49m\u001b[43m(\u001b[49m\u001b[43mbfloat16\u001b[49m\u001b[43m)\u001b[49m\n\u001b[1;32m     28\u001b[0m _float8_e4m3b11fnuz_dtype \u001b[38;5;241m=\u001b[39m np\u001b[38;5;241m.\u001b[39mdtype(float8_e4m3b11fnuz)\n\u001b[1;32m     29\u001b[0m _float8_e4m3fn_dtype \u001b[38;5;241m=\u001b[39m np\u001b[38;5;241m.\u001b[39mdtype(float8_e4m3fn)\n",
      "File \u001b[0;32m~/PycharmProjects/OOPPython/.venv/lib/python3.12/site-packages/numpy/core/_dtype.py:46\u001b[0m, in \u001b[0;36m__repr__\u001b[0;34m(dtype)\u001b[0m\n\u001b[1;32m     45\u001b[0m \u001b[38;5;28;01mdef\u001b[39;00m \u001b[38;5;21m__repr__\u001b[39m(dtype):\n\u001b[0;32m---> 46\u001b[0m     arg_str \u001b[38;5;241m=\u001b[39m \u001b[43m_construction_repr\u001b[49m\u001b[43m(\u001b[49m\u001b[43mdtype\u001b[49m\u001b[43m,\u001b[49m\u001b[43m \u001b[49m\u001b[43minclude_align\u001b[49m\u001b[38;5;241;43m=\u001b[39;49m\u001b[38;5;28;43;01mFalse\u001b[39;49;00m\u001b[43m)\u001b[49m\n\u001b[1;32m     47\u001b[0m     \u001b[38;5;28;01mif\u001b[39;00m dtype\u001b[38;5;241m.\u001b[39misalignedstruct:\n\u001b[1;32m     48\u001b[0m         arg_str \u001b[38;5;241m=\u001b[39m arg_str \u001b[38;5;241m+\u001b[39m \u001b[38;5;124m\"\u001b[39m\u001b[38;5;124m, align=True\u001b[39m\u001b[38;5;124m\"\u001b[39m\n",
      "File \u001b[0;32m~/PycharmProjects/OOPPython/.venv/lib/python3.12/site-packages/numpy/core/_dtype.py:100\u001b[0m, in \u001b[0;36m_construction_repr\u001b[0;34m(dtype, include_align, short)\u001b[0m\n\u001b[1;32m     98\u001b[0m     \u001b[38;5;28;01mreturn\u001b[39;00m _subarray_str(dtype)\n\u001b[1;32m     99\u001b[0m \u001b[38;5;28;01melse\u001b[39;00m:\n\u001b[0;32m--> 100\u001b[0m     \u001b[38;5;28;01mreturn\u001b[39;00m \u001b[43m_scalar_str\u001b[49m\u001b[43m(\u001b[49m\u001b[43mdtype\u001b[49m\u001b[43m,\u001b[49m\u001b[43m \u001b[49m\u001b[43mshort\u001b[49m\u001b[38;5;241;43m=\u001b[39;49m\u001b[43mshort\u001b[49m\u001b[43m)\u001b[49m\n",
      "File \u001b[0;32m~/PycharmProjects/OOPPython/.venv/lib/python3.12/site-packages/numpy/core/_dtype.py:143\u001b[0m, in \u001b[0;36m_scalar_str\u001b[0;34m(dtype, short)\u001b[0m\n\u001b[1;32m    140\u001b[0m \u001b[38;5;28;01melif\u001b[39;00m dtype\u001b[38;5;241m.\u001b[39mtype \u001b[38;5;241m==\u001b[39m np\u001b[38;5;241m.\u001b[39mtimedelta64:\n\u001b[1;32m    141\u001b[0m     \u001b[38;5;28;01mreturn\u001b[39;00m \u001b[38;5;124m\"\u001b[39m\u001b[38;5;124m'\u001b[39m\u001b[38;5;132;01m%s\u001b[39;00m\u001b[38;5;124mm8\u001b[39m\u001b[38;5;132;01m%s\u001b[39;00m\u001b[38;5;124m'\u001b[39m\u001b[38;5;124m\"\u001b[39m \u001b[38;5;241m%\u001b[39m (byteorder, _datetime_metadata_str(dtype))\n\u001b[0;32m--> 143\u001b[0m \u001b[38;5;28;01melif\u001b[39;00m \u001b[43mnp\u001b[49m\u001b[38;5;241;43m.\u001b[39;49m\u001b[43missubdtype\u001b[49m\u001b[43m(\u001b[49m\u001b[43mdtype\u001b[49m\u001b[43m,\u001b[49m\u001b[43m \u001b[49m\u001b[43mnp\u001b[49m\u001b[38;5;241;43m.\u001b[39;49m\u001b[43mnumber\u001b[49m\u001b[43m)\u001b[49m:\n\u001b[1;32m    144\u001b[0m     \u001b[38;5;66;03m# Short repr with endianness, like '<f8'\u001b[39;00m\n\u001b[1;32m    145\u001b[0m     \u001b[38;5;28;01mif\u001b[39;00m short \u001b[38;5;129;01mor\u001b[39;00m dtype\u001b[38;5;241m.\u001b[39mbyteorder \u001b[38;5;129;01mnot\u001b[39;00m \u001b[38;5;129;01min\u001b[39;00m (\u001b[38;5;124m'\u001b[39m\u001b[38;5;124m=\u001b[39m\u001b[38;5;124m'\u001b[39m, \u001b[38;5;124m'\u001b[39m\u001b[38;5;124m|\u001b[39m\u001b[38;5;124m'\u001b[39m):\n\u001b[1;32m    146\u001b[0m         \u001b[38;5;28;01mreturn\u001b[39;00m \u001b[38;5;124m\"\u001b[39m\u001b[38;5;124m'\u001b[39m\u001b[38;5;132;01m%s\u001b[39;00m\u001b[38;5;132;01m%c\u001b[39;00m\u001b[38;5;132;01m%d\u001b[39;00m\u001b[38;5;124m'\u001b[39m\u001b[38;5;124m\"\u001b[39m \u001b[38;5;241m%\u001b[39m (byteorder, dtype\u001b[38;5;241m.\u001b[39mkind, dtype\u001b[38;5;241m.\u001b[39mitemsize)\n",
      "File \u001b[0;32m~/PycharmProjects/OOPPython/.venv/lib/python3.12/site-packages/numpy/_core/numerictypes.py:529\u001b[0m, in \u001b[0;36missubdtype\u001b[0;34m(arg1, arg2)\u001b[0m\n",
      "File \u001b[0;32m~/PycharmProjects/OOPPython/.venv/lib/python3.12/site-packages/numpy/core/_dtype.py:46\u001b[0m, in \u001b[0;36m__repr__\u001b[0;34m(dtype)\u001b[0m\n\u001b[1;32m     45\u001b[0m \u001b[38;5;28;01mdef\u001b[39;00m \u001b[38;5;21m__repr__\u001b[39m(dtype):\n\u001b[0;32m---> 46\u001b[0m     arg_str \u001b[38;5;241m=\u001b[39m \u001b[43m_construction_repr\u001b[49m\u001b[43m(\u001b[49m\u001b[43mdtype\u001b[49m\u001b[43m,\u001b[49m\u001b[43m \u001b[49m\u001b[43minclude_align\u001b[49m\u001b[38;5;241;43m=\u001b[39;49m\u001b[38;5;28;43;01mFalse\u001b[39;49;00m\u001b[43m)\u001b[49m\n\u001b[1;32m     47\u001b[0m     \u001b[38;5;28;01mif\u001b[39;00m dtype\u001b[38;5;241m.\u001b[39misalignedstruct:\n\u001b[1;32m     48\u001b[0m         arg_str \u001b[38;5;241m=\u001b[39m arg_str \u001b[38;5;241m+\u001b[39m \u001b[38;5;124m\"\u001b[39m\u001b[38;5;124m, align=True\u001b[39m\u001b[38;5;124m\"\u001b[39m\n",
      "File \u001b[0;32m~/PycharmProjects/OOPPython/.venv/lib/python3.12/site-packages/numpy/core/_dtype.py:100\u001b[0m, in \u001b[0;36m_construction_repr\u001b[0;34m(dtype, include_align, short)\u001b[0m\n\u001b[1;32m     98\u001b[0m     \u001b[38;5;28;01mreturn\u001b[39;00m _subarray_str(dtype)\n\u001b[1;32m     99\u001b[0m \u001b[38;5;28;01melse\u001b[39;00m:\n\u001b[0;32m--> 100\u001b[0m     \u001b[38;5;28;01mreturn\u001b[39;00m \u001b[43m_scalar_str\u001b[49m\u001b[43m(\u001b[49m\u001b[43mdtype\u001b[49m\u001b[43m,\u001b[49m\u001b[43m \u001b[49m\u001b[43mshort\u001b[49m\u001b[38;5;241;43m=\u001b[39;49m\u001b[43mshort\u001b[49m\u001b[43m)\u001b[49m\n",
      "File \u001b[0;32m~/PycharmProjects/OOPPython/.venv/lib/python3.12/site-packages/numpy/core/_dtype.py:143\u001b[0m, in \u001b[0;36m_scalar_str\u001b[0;34m(dtype, short)\u001b[0m\n\u001b[1;32m    140\u001b[0m \u001b[38;5;28;01melif\u001b[39;00m dtype\u001b[38;5;241m.\u001b[39mtype \u001b[38;5;241m==\u001b[39m np\u001b[38;5;241m.\u001b[39mtimedelta64:\n\u001b[1;32m    141\u001b[0m     \u001b[38;5;28;01mreturn\u001b[39;00m \u001b[38;5;124m\"\u001b[39m\u001b[38;5;124m'\u001b[39m\u001b[38;5;132;01m%s\u001b[39;00m\u001b[38;5;124mm8\u001b[39m\u001b[38;5;132;01m%s\u001b[39;00m\u001b[38;5;124m'\u001b[39m\u001b[38;5;124m\"\u001b[39m \u001b[38;5;241m%\u001b[39m (byteorder, _datetime_metadata_str(dtype))\n\u001b[0;32m--> 143\u001b[0m \u001b[38;5;28;01melif\u001b[39;00m \u001b[43mnp\u001b[49m\u001b[38;5;241;43m.\u001b[39;49m\u001b[43missubdtype\u001b[49m\u001b[43m(\u001b[49m\u001b[43mdtype\u001b[49m\u001b[43m,\u001b[49m\u001b[43m \u001b[49m\u001b[43mnp\u001b[49m\u001b[38;5;241;43m.\u001b[39;49m\u001b[43mnumber\u001b[49m\u001b[43m)\u001b[49m:\n\u001b[1;32m    144\u001b[0m     \u001b[38;5;66;03m# Short repr with endianness, like '<f8'\u001b[39;00m\n\u001b[1;32m    145\u001b[0m     \u001b[38;5;28;01mif\u001b[39;00m short \u001b[38;5;129;01mor\u001b[39;00m dtype\u001b[38;5;241m.\u001b[39mbyteorder \u001b[38;5;129;01mnot\u001b[39;00m \u001b[38;5;129;01min\u001b[39;00m (\u001b[38;5;124m'\u001b[39m\u001b[38;5;124m=\u001b[39m\u001b[38;5;124m'\u001b[39m, \u001b[38;5;124m'\u001b[39m\u001b[38;5;124m|\u001b[39m\u001b[38;5;124m'\u001b[39m):\n\u001b[1;32m    146\u001b[0m         \u001b[38;5;28;01mreturn\u001b[39;00m \u001b[38;5;124m\"\u001b[39m\u001b[38;5;124m'\u001b[39m\u001b[38;5;132;01m%s\u001b[39;00m\u001b[38;5;132;01m%c\u001b[39;00m\u001b[38;5;132;01m%d\u001b[39;00m\u001b[38;5;124m'\u001b[39m\u001b[38;5;124m\"\u001b[39m \u001b[38;5;241m%\u001b[39m (byteorder, dtype\u001b[38;5;241m.\u001b[39mkind, dtype\u001b[38;5;241m.\u001b[39mitemsize)\n",
      "File \u001b[0;32m~/PycharmProjects/OOPPython/.venv/lib/python3.12/site-packages/numpy/_core/numerictypes.py:529\u001b[0m, in \u001b[0;36missubdtype\u001b[0;34m(arg1, arg2)\u001b[0m\n",
      "    \u001b[0;31m[... skipping similar frames: __repr__ at line 46 (719 times), _construction_repr at line 100 (719 times), _scalar_str at line 143 (718 times), issubdtype at line 529 (718 times)]\u001b[0m\n",
      "File \u001b[0;32m~/PycharmProjects/OOPPython/.venv/lib/python3.12/site-packages/numpy/core/_dtype.py:143\u001b[0m, in \u001b[0;36m_scalar_str\u001b[0;34m(dtype, short)\u001b[0m\n\u001b[1;32m    140\u001b[0m \u001b[38;5;28;01melif\u001b[39;00m dtype\u001b[38;5;241m.\u001b[39mtype \u001b[38;5;241m==\u001b[39m np\u001b[38;5;241m.\u001b[39mtimedelta64:\n\u001b[1;32m    141\u001b[0m     \u001b[38;5;28;01mreturn\u001b[39;00m \u001b[38;5;124m\"\u001b[39m\u001b[38;5;124m'\u001b[39m\u001b[38;5;132;01m%s\u001b[39;00m\u001b[38;5;124mm8\u001b[39m\u001b[38;5;132;01m%s\u001b[39;00m\u001b[38;5;124m'\u001b[39m\u001b[38;5;124m\"\u001b[39m \u001b[38;5;241m%\u001b[39m (byteorder, _datetime_metadata_str(dtype))\n\u001b[0;32m--> 143\u001b[0m \u001b[38;5;28;01melif\u001b[39;00m \u001b[43mnp\u001b[49m\u001b[38;5;241;43m.\u001b[39;49m\u001b[43missubdtype\u001b[49m\u001b[43m(\u001b[49m\u001b[43mdtype\u001b[49m\u001b[43m,\u001b[49m\u001b[43m \u001b[49m\u001b[43mnp\u001b[49m\u001b[38;5;241;43m.\u001b[39;49m\u001b[43mnumber\u001b[49m\u001b[43m)\u001b[49m:\n\u001b[1;32m    144\u001b[0m     \u001b[38;5;66;03m# Short repr with endianness, like '<f8'\u001b[39;00m\n\u001b[1;32m    145\u001b[0m     \u001b[38;5;28;01mif\u001b[39;00m short \u001b[38;5;129;01mor\u001b[39;00m dtype\u001b[38;5;241m.\u001b[39mbyteorder \u001b[38;5;129;01mnot\u001b[39;00m \u001b[38;5;129;01min\u001b[39;00m (\u001b[38;5;124m'\u001b[39m\u001b[38;5;124m=\u001b[39m\u001b[38;5;124m'\u001b[39m, \u001b[38;5;124m'\u001b[39m\u001b[38;5;124m|\u001b[39m\u001b[38;5;124m'\u001b[39m):\n\u001b[1;32m    146\u001b[0m         \u001b[38;5;28;01mreturn\u001b[39;00m \u001b[38;5;124m\"\u001b[39m\u001b[38;5;124m'\u001b[39m\u001b[38;5;132;01m%s\u001b[39;00m\u001b[38;5;132;01m%c\u001b[39;00m\u001b[38;5;132;01m%d\u001b[39;00m\u001b[38;5;124m'\u001b[39m\u001b[38;5;124m\"\u001b[39m \u001b[38;5;241m%\u001b[39m (byteorder, dtype\u001b[38;5;241m.\u001b[39mkind, dtype\u001b[38;5;241m.\u001b[39mitemsize)\n",
      "File \u001b[0;32m~/PycharmProjects/OOPPython/.venv/lib/python3.12/site-packages/numpy/_core/numerictypes.py:529\u001b[0m, in \u001b[0;36missubdtype\u001b[0;34m(arg1, arg2)\u001b[0m\n",
      "File \u001b[0;32m~/PycharmProjects/OOPPython/.venv/lib/python3.12/site-packages/numpy/core/_dtype.py:46\u001b[0m, in \u001b[0;36m__repr__\u001b[0;34m(dtype)\u001b[0m\n\u001b[1;32m     45\u001b[0m \u001b[38;5;28;01mdef\u001b[39;00m \u001b[38;5;21m__repr__\u001b[39m(dtype):\n\u001b[0;32m---> 46\u001b[0m     arg_str \u001b[38;5;241m=\u001b[39m \u001b[43m_construction_repr\u001b[49m\u001b[43m(\u001b[49m\u001b[43mdtype\u001b[49m\u001b[43m,\u001b[49m\u001b[43m \u001b[49m\u001b[43minclude_align\u001b[49m\u001b[38;5;241;43m=\u001b[39;49m\u001b[38;5;28;43;01mFalse\u001b[39;49;00m\u001b[43m)\u001b[49m\n\u001b[1;32m     47\u001b[0m     \u001b[38;5;28;01mif\u001b[39;00m dtype\u001b[38;5;241m.\u001b[39misalignedstruct:\n\u001b[1;32m     48\u001b[0m         arg_str \u001b[38;5;241m=\u001b[39m arg_str \u001b[38;5;241m+\u001b[39m \u001b[38;5;124m\"\u001b[39m\u001b[38;5;124m, align=True\u001b[39m\u001b[38;5;124m\"\u001b[39m\n",
      "File \u001b[0;32m~/PycharmProjects/OOPPython/.venv/lib/python3.12/site-packages/numpy/core/_dtype.py:100\u001b[0m, in \u001b[0;36m_construction_repr\u001b[0;34m(dtype, include_align, short)\u001b[0m\n\u001b[1;32m     98\u001b[0m     \u001b[38;5;28;01mreturn\u001b[39;00m _subarray_str(dtype)\n\u001b[1;32m     99\u001b[0m \u001b[38;5;28;01melse\u001b[39;00m:\n\u001b[0;32m--> 100\u001b[0m     \u001b[38;5;28;01mreturn\u001b[39;00m \u001b[43m_scalar_str\u001b[49m\u001b[43m(\u001b[49m\u001b[43mdtype\u001b[49m\u001b[43m,\u001b[49m\u001b[43m \u001b[49m\u001b[43mshort\u001b[49m\u001b[38;5;241;43m=\u001b[39;49m\u001b[43mshort\u001b[49m\u001b[43m)\u001b[49m\n",
      "File \u001b[0;32m~/PycharmProjects/OOPPython/.venv/lib/python3.12/site-packages/numpy/core/_dtype.py:104\u001b[0m, in \u001b[0;36m_scalar_str\u001b[0;34m(dtype, short)\u001b[0m\n\u001b[1;32m    103\u001b[0m \u001b[38;5;28;01mdef\u001b[39;00m \u001b[38;5;21m_scalar_str\u001b[39m(dtype, short):\n\u001b[0;32m--> 104\u001b[0m     byteorder \u001b[38;5;241m=\u001b[39m \u001b[43m_byte_order_str\u001b[49m\u001b[43m(\u001b[49m\u001b[43mdtype\u001b[49m\u001b[43m)\u001b[49m\n\u001b[1;32m    106\u001b[0m     \u001b[38;5;28;01mif\u001b[39;00m dtype\u001b[38;5;241m.\u001b[39mtype \u001b[38;5;241m==\u001b[39m np\u001b[38;5;241m.\u001b[39mbool_:\n\u001b[1;32m    107\u001b[0m         \u001b[38;5;28;01mif\u001b[39;00m short:\n",
      "\u001b[0;31mRecursionError\u001b[0m: maximum recursion depth exceeded"
     ]
    }
   ],
   "source": [
    "# Выделим признаки для обучения и искомый признак в датасете train\n",
    "# для обучения модели\n",
    "X = data_train.drop(['target', 'smpl'], axis=1)\n",
    "y = data_train['target']\n",
    "\n",
    "# Разобьем тренировочные данные на валидационный и тренировочный датасет в соотношении 7 к 3\n",
    "# Cтратифицируем выборки по искомому признаку, зафиксируем random_state для воспроизводимости\n",
    "X_train, X_test, y_train, y_test = train_test_split(X, y, random_state=42, stratify=y, test_size=0.3)\n",
    "\n",
    "# Обучим модель на тренировочной части тренировочных данных\n",
    "gbdt_clf = HistGradientBoostingClassifier(min_samples_leaf=1,\n",
    "                                          max_depth=20,\n",
    "                                          max_iter=125,\n",
    "                                          random_state=42).fit(X_train, y_train)\n",
    "\n",
    "# Получим предсказание с вероятностями для валидационной части тренировочного датасета\n",
    "y_pred = gbdt_clf.predict_proba(X_test)\n",
    "\n",
    "# Переведем предсказание в формат Series\n",
    "y_pred = pd.Series(y_pred[:, 1])\n",
    "\n",
    "# Высчитаем метрику roc-auc по валидационным данным\n",
    "print(f'Метрика roc-auc на валидационных данных имеет значение: {roc_auc_score(y_test, y_pred)}')"
   ]
  },
  {
   "cell_type": "markdown",
   "metadata": {
    "id": "SPiUbGpZjrSx"
   },
   "source": [
    "## Этап 3. Предсказание для тестовых данных\n",
    "\n"
   ]
  },
  {
   "cell_type": "markdown",
   "metadata": {
    "id": "TFFlQ3h2jGo9"
   },
   "source": [
    "Получим предсказание на тестовых данных"
   ]
  },
  {
   "cell_type": "code",
   "execution_count": 15,
   "metadata": {
    "ExecuteTime": {
     "end_time": "2024-11-05T08:02:31.430565Z",
     "start_time": "2024-11-05T08:02:30.132993Z"
    },
    "id": "8K4EeqipKYRB"
   },
   "outputs": [],
   "source": [
    "# Обучим модель на полных тренировочных данных\n",
    "gbdt_clf = HistGradientBoostingClassifier(min_samples_leaf=1,\n",
    "                                          max_depth=20,\n",
    "                                          max_iter=125,\n",
    "                                          random_state=42).fit(X, y)\n",
    "\n",
    "# Для предсказания используем тестовый датасет с исключенным признаком smpl\n",
    "y_test_pred = gbdt_clf.predict_proba(data_test.drop(['smpl'], axis=1))\n",
    "\n",
    "# Переведем предсказание в формат Series\n",
    "y_test_pred = pd.Series(y_test_pred[:, 1])\n",
    "\n",
    "# Добавим данные предсказания к датасету\n",
    "data_test['target'] = y_test_pred\n",
    "\n",
    "# Сохраним итоговые данные об id и предсказаниях в формате csv\n",
    "data_test[['id', 'target']].to_csv('baseline_submission_case1.csv', index=False)"
   ]
  },
  {
   "cell_type": "markdown",
   "metadata": {
    "id": "EaHCIcXXvZbi"
   },
   "source": [
    "Baseline создан компанией Changellenge >> - ведущей организацией по кейсам в России, для хакатона Alfa Hack.  \n",
    "\n",
    "Запрещено распространение данного файла, файлов данных в форматах csv, а также текста кейса без письменного разрешения владельца авторских прав в лице компании Changellenge>>."
   ]
  }
 ],
 "metadata": {
  "colab": {
   "authorship_tag": "ABX9TyPbwGuKD2nSqLMCV0I3r6Sg",
   "provenance": []
  },
  "kernelspec": {
   "display_name": "Python 3 (ipykernel)",
   "language": "python",
   "name": "python3"
  },
  "language_info": {
   "name": "python"
  }
 },
 "nbformat": 4,
 "nbformat_minor": 0
}
